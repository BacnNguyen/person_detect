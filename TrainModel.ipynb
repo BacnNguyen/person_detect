{
  "nbformat": 4,
  "nbformat_minor": 0,
  "metadata": {
    "colab": {
      "name": "TrainModel.ipynb",
      "private_outputs": true,
      "provenance": [],
      "collapsed_sections": [],
      "authorship_tag": "ABX9TyPXkSRbqKqKg+olsjeNd4Gi",
      "include_colab_link": true
    },
    "kernelspec": {
      "name": "python3",
      "display_name": "Python 3"
    },
    "accelerator": "GPU"
  },
  "cells": [
    {
      "cell_type": "markdown",
      "metadata": {
        "id": "view-in-github",
        "colab_type": "text"
      },
      "source": [
        "<a href=\"https://colab.research.google.com/github/BacnNguyen/person_detect/blob/main/TrainModel.ipynb\" target=\"_parent\"><img src=\"https://colab.research.google.com/assets/colab-badge.svg\" alt=\"Open In Colab\"/></a>"
      ]
    },
    {
      "cell_type": "code",
      "metadata": {
        "id": "5opRdUgCDH-K"
      },
      "source": [
        "!nvidia-smi"
      ],
      "execution_count": null,
      "outputs": []
    },
    {
      "cell_type": "code",
      "metadata": {
        "id": "Z52nQlhXqf8S"
      },
      "source": [
        "import pathlib\n",
        "import cv2\n",
        "from matplotlib import pyplot as plt"
      ],
      "execution_count": null,
      "outputs": []
    },
    {
      "cell_type": "code",
      "metadata": {
        "id": "4JDWRrWuq-lA"
      },
      "source": [
        "def showPath():\n",
        "  print(pathlib.Path().absolute())\n",
        "def showImg(path):\n",
        "  img = cv2.imread(path)\n",
        "  plt.imshow(img)\n",
        "  plt.show()"
      ],
      "execution_count": null,
      "outputs": []
    },
    {
      "cell_type": "code",
      "metadata": {
        "id": "s54zJFcWrc0r"
      },
      "source": [
        "from google.colab import drive\n",
        "drive.mount('/content/mydrive')"
      ],
      "execution_count": null,
      "outputs": []
    },
    {
      "cell_type": "code",
      "metadata": {
        "id": "yRLpBZzwrsNA"
      },
      "source": [
        "import os\n",
        "path = \"/content/mydrive/My Drive/ComputerVision/PersonDetect/\"\n",
        "os.chdir(path)\n",
        "print(path)"
      ],
      "execution_count": null,
      "outputs": []
    },
    {
      "cell_type": "code",
      "metadata": {
        "id": "78rfILvmJYVJ"
      },
      "source": [
        "#!git clone https://github.com/pjreddie/darknet.git\n",
        "# showPath()\n",
        "# !git clone https://github.com/AlexeyAB/darknet.git"
      ],
      "execution_count": null,
      "outputs": []
    },
    {
      "cell_type": "code",
      "metadata": {
        "id": "-eK8ZKlkr8yH"
      },
      "source": [
        "%cd ./darknet/\n",
        "#!make\n",
        "!chmod +x ./darknet \n",
        "showPath()"
      ],
      "execution_count": null,
      "outputs": []
    },
    {
      "cell_type": "code",
      "metadata": {
        "id": "OLWLresFwdIc"
      },
      "source": [
        "# !echo class= 15 > obj.data\n",
        "# !echo train = train.txt >>obj.data\n",
        "# !echo valid = test.txt >>obj.data\n",
        "# !echo names = obj.name >>obj.data\n",
        "# !echo backup = backup >>obj.data"
      ],
      "execution_count": null,
      "outputs": []
    },
    {
      "cell_type": "code",
      "metadata": {
        "id": "XL0cZkmAw1aT"
      },
      "source": [
        "import glob2\n",
        "files=[]\n",
        "files = glob2.glob(\"../car_dataset/*.jpg\")\n",
        "print(len(files))\n",
        "\n",
        "import numpy as np\n",
        "rand_index = np.random.randint(0,len(files),2000)\n",
        "print(len(rand_index))\n",
        "#create train.txt\n",
        "with open(\"train.txt\",\"w\") as f:\n",
        "  for index in np.arange(len(files)):\n",
        "    if index not in rand_index:\n",
        "      f.write(files[index]+'\\n')\n",
        "\n",
        "#create test.txt\n",
        "with open(\"test.txt\",\"w\") as f1:\n",
        "  for index in np.arange(len(files)):\n",
        "    if index in rand_index:\n",
        "      f1.write(files[index]+'\\n')"
      ],
      "execution_count": null,
      "outputs": []
    },
    {
      "cell_type": "code",
      "metadata": {
        "id": "o9_tPN5RQ_pi"
      },
      "source": [
        "def showLossLog(path):\n",
        "  lines = []\n",
        "  for line in open(path,'r'):\n",
        "      if \"avg\" in line:\n",
        "          lines.append(line)\n",
        "  print(len(lines))\n",
        "  iterations = []\n",
        "  avg_loss = []\n",
        "\n",
        "  print('Retrieving data and plotting training loss graph...')\n",
        "  for i in range(len(lines)):\n",
        "      lineParts = lines[i].split(',')\n",
        "      # print(lineParts)\n",
        "      iterations.append(int(lineParts[0].split(':')[0]))\n",
        "      avg_loss.append(float(lineParts[1].split()[0]))\n",
        "  for i in range(0,len(lines)):\n",
        "    plt.plot(iterations[i:i+2], avg_loss[i:i+2], 'r.-')\n",
        "  plt.xlabel('iterations')\n",
        "  plt.ylabel('avg_loss')\n",
        "  plt.show()  "
      ],
      "execution_count": null,
      "outputs": []
    },
    {
      "cell_type": "code",
      "metadata": {
        "id": "TjI6RWtqnUxO"
      },
      "source": [
        ""
      ],
      "execution_count": null,
      "outputs": []
    },
    {
      "cell_type": "code",
      "metadata": {
        "id": "yeTxo91Jyg6L"
      },
      "source": [
        "# !./darknet detector train obj.data yolov3-car.cfg darknet53.conv.74 -dont_show > yolov3-car.log\n",
        "!./darknet detector train obj.data yolov3-car.cfg backup/yolov3-car_last.weights -dont_show > yolov3-person.log"
      ],
      "execution_count": null,
      "outputs": []
    }
  ]
}